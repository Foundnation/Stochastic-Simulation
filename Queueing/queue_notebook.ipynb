{
 "cells": [
  {
   "cell_type": "code",
   "execution_count": 1,
   "id": "219c26f5",
   "metadata": {},
   "outputs": [],
   "source": [
    "import simpy\n",
    "import random"
   ]
  },
  {
   "attachments": {},
   "cell_type": "markdown",
   "id": "1d87cbfd",
   "metadata": {},
   "source": [
    "# With recording waiting times"
   ]
  },
  {
   "cell_type": "code",
   "execution_count": 18,
   "id": "d87787f8",
   "metadata": {},
   "outputs": [],
   "source": [
    "class M_M_n_queue:\n",
    "    def __init__(self, env, arrival_rate, service_rate, num_servers):\n",
    "        self.env = env\n",
    "        self.server = simpy.Resource(env, num_servers)\n",
    "        self.arrival_rate = arrival_rate\n",
    "        self.service_rate = service_rate\n",
    "        self.waiting_time_in_the_queue=[]\n",
    "        \n",
    "\n",
    "    def arrival(self):\n",
    "        \"\"\"The arrival process generates customers according to a Poisson process\"\"\"\n",
    "        customer = 0\n",
    "        while True:\n",
    "            ### Interarrival times follow exponential\n",
    "            next_customer= random.expovariate(self.arrival_rate)\n",
    "            ### Wait for the customer\n",
    "            yield self.env.timeout(next_customer)  \n",
    "            customer += 1\n",
    "            \n",
    "            ### Start a service process\n",
    "            self.env.process(self.service(customer))\n",
    "\n",
    "    def service(self, customer):\n",
    "        \"\"\"The service process. The customer arrives and requests a service. The service time follows \n",
    "           the exponential distribution\"\"\"\n",
    "        with self.server.request() as req:\n",
    "            queue_arrival_time= self.env.now\n",
    "            yield req\n",
    "            #### calculate waiting time\n",
    "            waiting_time = self.env.now - queue_arrival_time\n",
    "            \n",
    "            service_time = random.expovariate(self.service_rate)\n",
    "            yield self.env.timeout(service_time)\n",
    "            \n",
    "            self.waiting_time_in_the_queue.append(waiting_time)\n",
    "        \n",
    "def setup(arrival_rate, service_rate, sim_time, num_servers):\n",
    "    \"\"\"Setup and start the simulation and returns average waiting time in one simulation\"\"\"\n",
    "    env = simpy.Environment()\n",
    "    M_M_n = M_M_n_queue(env, arrival_rate, service_rate, num_servers)\n",
    "    env.process(M_M_n.arrival())\n",
    "    env.run(until=sim_time)\n",
    "    average_waiting_time = sum(M_M_n.waiting_time_in_the_queue) / len(M_M_n.waiting_time_in_the_queue)\n",
    "\n",
    "    return average_waiting_time, len(M_M_n.waiting_time_in_the_queue)\n",
    "\n",
    "def simulate(arrival_rate, service_rate, sim_time, num_simulations, num_servers):\n",
    "    \"\"\"Returns average waiting time over provided number of simulations\"\"\"\n",
    "    average_waiting_time_list = []\n",
    "    for i in range(num_simulations):\n",
    "        average_waiting_time, N_customers = setup(arrival_rate, service_rate, sim_time, num_servers)\n",
    "        average_waiting_time_list.append(average_waiting_time)\n",
    "        \n",
    "    average_waiting_time_over_simulations = sum(average_waiting_time_list) / num_simulations\n",
    "\n",
    "    print(f' Average waiting time in the queue with number of servers ={num_servers} over {num_simulations} simulations: {average_waiting_time_over_simulations}')\n",
    "    return average_waiting_time_over_simulations, N_customers\n",
    "\n"
   ]
  },
  {
   "cell_type": "code",
   "execution_count": 19,
   "id": "9b7e39a9",
   "metadata": {},
   "outputs": [
    {
     "name": "stdout",
     "output_type": "stream",
     "text": [
      " Average waiting time in the queue with number of servers =1 over 1000 simulations: 475.36534244912286\n"
     ]
    },
    {
     "data": {
      "text/plain": [
       "(475.36534244912286, 198)"
      ]
     },
     "execution_count": 19,
     "metadata": {},
     "output_type": "execute_result"
    }
   ],
   "source": [
    "# Parameters \n",
    "\n",
    "arrival_rate = 5  #average time between arrivals is 0.2 minutes, or on average 5 people arrive every minute, so the rate=5\n",
    "service_rate = 1/5   # average service time is 5 minutes, so the rate is 1/5 \n",
    "\n",
    "simulation_time = 1000  \n",
    "num_simulations = 1000\n",
    "num_servers= 1\n",
    "\n",
    "simulate(arrival_rate, service_rate, simulation_time, num_simulations, num_servers)\n"
   ]
  },
  {
   "attachments": {},
   "cell_type": "markdown",
   "id": "99cc758c",
   "metadata": {},
   "source": [
    "# For different number of servers n"
   ]
  },
  {
   "cell_type": "code",
   "execution_count": 21,
   "id": "1f9522bd",
   "metadata": {},
   "outputs": [
    {
     "name": "stdout",
     "output_type": "stream",
     "text": [
      " Average waiting time in the queue with number of servers =1 over 1000 simulations: 475.2852871388753\n",
      "Customers: 193 \n",
      "\n",
      " Average waiting time in the queue with number of servers =2 over 1000 simulations: 454.3343269161822\n",
      "Customers: 401 \n",
      "\n",
      " Average waiting time in the queue with number of servers =4 over 1000 simulations: 415.454546423222\n",
      "Customers: 789 \n",
      "\n"
     ]
    }
   ],
   "source": [
    "num_servers_list= [1, 2, 4]\n",
    "\n",
    "for num_servers in num_servers_list:\n",
    "    _, N_customers = simulate(arrival_rate, service_rate, simulation_time, num_simulations, num_servers)\n",
    "    print(f'Customers: {N_customers} \\n')\n"
   ]
  },
  {
   "cell_type": "code",
   "execution_count": null,
   "id": "e5070b89",
   "metadata": {},
   "outputs": [],
   "source": []
  }
 ],
 "metadata": {
  "kernelspec": {
   "display_name": "Python 3 (ipykernel)",
   "language": "python",
   "name": "python3"
  },
  "language_info": {
   "codemirror_mode": {
    "name": "ipython",
    "version": 3
   },
   "file_extension": ".py",
   "mimetype": "text/x-python",
   "name": "python",
   "nbconvert_exporter": "python",
   "pygments_lexer": "ipython3",
   "version": "3.9.6"
  }
 },
 "nbformat": 4,
 "nbformat_minor": 5
}
