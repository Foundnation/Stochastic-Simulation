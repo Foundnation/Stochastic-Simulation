{
 "cells": [
  {
   "cell_type": "code",
   "execution_count": 1,
   "metadata": {},
   "outputs": [],
   "source": [
    "from tsp_annealing import *\n",
    "import matplotlib.pyplot as plt"
   ]
  },
  {
   "cell_type": "code",
   "execution_count": 2,
   "metadata": {},
   "outputs": [],
   "source": [
    "opt_distance_51, opt_distance_280, opt_distance_442 = calculate_optimal_distances()\n",
    "\n",
    "cities_51 = load_graph('TSP-Configurations/eil51.tsp.txt')\n",
    "cities_280 = load_graph('TSP-Configurations/a280.tsp.txt')\n",
    "cities_442 = load_graph('TSP-Configurations/pcb442.tsp.txt')\n",
    "\n",
    "distances_51 = calculate_distances(cities_51)\n",
    "distances_280 = calculate_distances(cities_280)\n",
    "distances_442 = calculate_distances(cities_442)"
   ]
  },
  {
   "cell_type": "code",
   "execution_count": 3,
   "metadata": {},
   "outputs": [],
   "source": [
    "def plot_TSP_solution(cities, permutation_method, opt_solution=None, **kwargs):\n",
    "    plt.figure(figsize=(8, 6))\n",
    "    plt.scatter([elem[0] for elem in cities], [elem[1] for elem in cities])\n",
    "    plt.title('Map')\n",
    "\n",
    "    distances = calculate_distances(cities)\n",
    "\n",
    "    best_tour, best_distance, cost_over_iterations, temperature_over_interations, count = perform_annealing(distances, \n",
    "                                                                    altering_method=permutation_method, output_count=True, **kwargs)\n",
    "\n",
    "    print(\"Best tour:\", best_tour)\n",
    "    print(\"Best distance:\", best_distance)\n",
    "\n",
    "    plot_tour(best_tour, cities, permutation_method)\n",
    "    plt.show()\n",
    "\n",
    "    plt.figure(figsize=(8, 6))\n",
    "    plt.plot(cost_over_iterations)\n",
    "    if opt_solution is not None:\n",
    "        opt_line = [opt_solution for _ in range(len(cost_over_iterations))]\n",
    "        plt.plot(opt_line, linestyle='--', color='black')\n",
    "    plt.title('Tour Distance Over Iterations')\n",
    "    plt.xlabel('Iterations')\n",
    "    plt.ylabel('Distance')\n",
    "    plt.show()\n",
    "\n",
    "    plt.plot(temperature_over_interations)\n",
    "    plt.title('Temperature Over Iterations')\n",
    "    plt.xlabel('Iterations')\n",
    "    plt.ylabel('Temperature')\n",
    "\n",
    "    plt.show()\n",
    "    print('annealing iterations:', count)\n",
    "\n",
    "\n",
    "\n",
    "def metrics(cities, permutation_method, print_results=True, **kwargs):\n",
    "    distances = calculate_distances(cities)\n",
    "\n",
    "    best_tour, best_tour_distance, _, _ = perform_annealing(distances, altering_method=permutation_method, **kwargs)\n",
    "\n",
    "    best_tour_coordinates = tour_to_cities(best_tour, cities)\n",
    "\n",
    "    if print_results:\n",
    "        print('Method = \\'%s\\''%(permutation_method))\n",
    "        print(\"Best distance:\", best_tour_distance)\n",
    "        print('With %i intersections \\n'%(count_intersections(best_tour_coordinates)))\n",
    "    \n",
    "    return best_tour_distance, count_intersections(best_tour_coordinates)\n",
    "\n",
    "def plot_dist_and_temp(costs, temps, title=None):\n",
    "    fig, axs = plt.subplots(1, 2, figsize=(10, 4))\n",
    "    axs[0].set_title('Distance over iterations')\n",
    "    axs[0].plot(costs)\n",
    "    axs[1].set_title('Temperature')\n",
    "    axs[1].plot(temps)\n",
    "    if title is not None:\n",
    "        fig.suptitle(title)\n",
    "    plt.show()"
   ]
  },
  {
   "cell_type": "code",
   "execution_count": 11,
   "metadata": {},
   "outputs": [
    {
     "name": "stdout",
     "output_type": "stream",
     "text": [
      "Method = 'swap'\n",
      "Best distance: 592.6373900152993\n",
      "With 10 intersections \n",
      "\n",
      "Method = 'insert'\n",
      "Best distance: 618.2803961715925\n",
      "With 14 intersections \n",
      "\n",
      "Method = 'reverse'\n",
      "Best distance: 474.8140691132331\n",
      "With 2 intersections \n",
      "\n",
      "Actual optimal distance: 447.79299344253565\n"
     ]
    }
   ],
   "source": [
    "cities = load_graph('TSP-Configurations/eil51.tsp.txt')\n",
    "\n",
    "metrics(cities, 'swap')\n",
    "metrics(cities, 'insert')\n",
    "metrics(cities, 'reverse')\n",
    "\n",
    "print('Actual optimal distance:', opt_distance_51)"
   ]
  },
  {
   "cell_type": "code",
   "execution_count": 12,
   "metadata": {},
   "outputs": [
    {
     "name": "stdout",
     "output_type": "stream",
     "text": [
      "Method = 'swap'\n",
      "Best distance: 12786.267810612257\n",
      "With 1045 intersections \n",
      "\n",
      "Method = 'insert'\n",
      "Best distance: 11161.762345079736\n",
      "With 824 intersections \n",
      "\n",
      "Method = 'reverse'\n",
      "Best distance: 9326.512092792229\n",
      "With 498 intersections \n",
      "\n",
      "Actual optimal distance: 2586.7696475631606\n"
     ]
    }
   ],
   "source": [
    "cities = load_graph('TSP-Configurations/a280.tsp.txt')\n",
    "\n",
    "metrics(cities, 'swap')\n",
    "metrics(cities, 'insert')\n",
    "metrics(cities, 'reverse')\n",
    "\n",
    "print('Actual optimal distance:', opt_distance_280)"
   ]
  },
  {
   "cell_type": "code",
   "execution_count": 8,
   "metadata": {},
   "outputs": [
    {
     "name": "stdout",
     "output_type": "stream",
     "text": [
      "Time taken with NO concurrency 66.70474219322205\n",
      "Time taken with concurrency: 36.03011226654053 seconds\n"
     ]
    }
   ],
   "source": [
    "cities = load_graph('TSP-Configurations/eil51.tsp.txt')\n",
    "max_iterations = int(1E6)\n",
    "final_temp = 1E-8\n",
    "cooling_schedule = 'quadratic_a'\n",
    "alpha = 1 - 1E-9\n",
    "distances = calculate_distances(cities)\n",
    "\n",
    "kwargs_list = [\n",
    "    {\n",
    "        'distances': distances,\n",
    "        'altering_method': 'swap',\n",
    "        'max_iterations': max_iterations,\n",
    "        'final_temp': final_temp,\n",
    "        'cooling_schedule': cooling_schedule,\n",
    "        'alpha': alpha\n",
    "    },\n",
    "    {\n",
    "        'distances': distances,\n",
    "        'altering_method': 'insert',\n",
    "        'max_iterations': max_iterations,\n",
    "        'final_temp': final_temp,\n",
    "        'cooling_schedule': cooling_schedule,\n",
    "        'alpha': alpha\n",
    "    },\n",
    "    {\n",
    "        'distances': distances,\n",
    "        'altering_method': 'reverse',\n",
    "        'max_iterations': max_iterations,\n",
    "        'final_temp': final_temp,\n",
    "        'cooling_schedule': cooling_schedule,\n",
    "        'alpha': alpha\n",
    "    }\n",
    "]\n",
    "\n",
    "start_time = time.time()\n",
    "for kwargs in kwargs_list:\n",
    "    perform_annealing(**kwargs)\n",
    "end_time = time.time()\n",
    "print('Time taken with NO concurrency', end_time - start_time)\n",
    "\n",
    "output = run_concurrent(perform_annealing, param_sets=kwargs_list)\n",
    "\n",
    "for i in range(3):    \n",
    "    print(np.mean(output[i][1]))"
   ]
  },
  {
   "cell_type": "code",
   "execution_count": 4,
   "metadata": {},
   "outputs": [
    {
     "name": "stdout",
     "output_type": "stream",
     "text": [
      "Time taken with concurrency: 30.33744478225708 seconds\n",
      "Time taken with concurrency: 30.32039451599121 seconds\n",
      "Time taken with concurrency: 27.361470699310303 seconds\n"
     ]
    }
   ],
   "source": [
    "schedules = ['linear_a', 'linear_m', 'exponential_m']\n",
    "max_iterations_list = range(100, 40200, 10000)\n",
    "result = {}\n",
    "for schedule in schedules:\n",
    "    output = run_vary_maxiter_concurrent(num_runs=10, distances=distances_51, max_iterations_list=max_iterations_list,\n",
    "                                         cooling_schedule=schedule, final_temp=1E-4, alpha=1 - 1E-4)\n",
    "    result[schedule] = output"
   ]
  },
  {
   "cell_type": "code",
   "execution_count": 5,
   "metadata": {},
   "outputs": [
    {
     "data": {
      "image/png": "[encoded data removed]",
      "text/plain": [
       "<Figure size 640x480 with 1 Axes>"
      ]
     },
     "metadata": {},
     "output_type": "display_data"
    }
   ],
   "source": [
    "for schedule in schedules:\n",
    "    plt.plot(max_iterations_list, result[schedule][0], 'o-')"
   ]
  },
  {
   "cell_type": "code",
   "execution_count": null,
   "metadata": {},
   "outputs": [],
   "source": []
  }
 ],
 "metadata": {
  "kernelspec": {
   "display_name": "Python 3",
   "language": "python",
   "name": "python3"
  },
  "language_info": {
   "codemirror_mode": {
    "name": "ipython",
    "version": 3
   },
   "file_extension": ".py",
   "mimetype": "text/x-python",
   "name": "python",
   "nbconvert_exporter": "python",
   "pygments_lexer": "ipython3",
   "version": "3.11.5"
  }
 },
 "nbformat": 4,
 "nbformat_minor": 2
}
