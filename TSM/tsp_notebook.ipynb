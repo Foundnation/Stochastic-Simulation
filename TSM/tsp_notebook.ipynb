{
 "cells": [
  {
   "cell_type": "code",
   "execution_count": 1,
   "metadata": {},
   "outputs": [],
   "source": [
    "from tsp_annealing import *\n",
    "import matplotlib.pyplot as plt"
   ]
  },
  {
   "cell_type": "code",
   "execution_count": 2,
   "metadata": {},
   "outputs": [
    {
     "ename": "TypeError",
     "evalue": "int() argument must be a string, a bytes-like object or a number, not 'reversed'",
     "output_type": "error",
     "traceback": [
      "\u001b[0;31m---------------------------------------------------------------------------\u001b[0m",
      "\u001b[0;31mTypeError\u001b[0m                                 Traceback (most recent call last)",
      "Cell \u001b[0;32mIn[2], line 9\u001b[0m\n\u001b[1;32m      5\u001b[0m plt\u001b[39m.\u001b[39mtitle(\u001b[39m'\u001b[39m\u001b[39mMap\u001b[39m\u001b[39m'\u001b[39m)\n\u001b[1;32m      7\u001b[0m distances \u001b[39m=\u001b[39m calculate_distances(cities)\n\u001b[0;32m----> 9\u001b[0m best_tour, best_distance, cost_over_iterations, temperature_over_interations \u001b[39m=\u001b[39m perform_annealing(distances, altering_method\u001b[39m=\u001b[39;49m\u001b[39m'\u001b[39;49m\u001b[39mreverse\u001b[39;49m\u001b[39m'\u001b[39;49m, max_iterations\u001b[39m=\u001b[39;49m\u001b[39mint\u001b[39;49m(\u001b[39m1E5\u001b[39;49m), alpha\u001b[39m=\u001b[39;49m\u001b[39m0.9999\u001b[39;49m)\n\u001b[1;32m     11\u001b[0m \u001b[39mprint\u001b[39m(\u001b[39m\"\u001b[39m\u001b[39mBest tour:\u001b[39m\u001b[39m\"\u001b[39m, best_tour)\n\u001b[1;32m     12\u001b[0m \u001b[39mprint\u001b[39m(\u001b[39m\"\u001b[39m\u001b[39mBest distance:\u001b[39m\u001b[39m\"\u001b[39m, best_distance)\n",
      "File \u001b[0;32m~/Downloads/Computational Science/Stochastic-Simulation/TSM/tsp_annealing.py:144\u001b[0m, in \u001b[0;36mperform_annealing\u001b[0;34m(distances, altering_method, initial_temp, alpha, max_iterations, init_tour, final_temp)\u001b[0m\n\u001b[1;32m    138\u001b[0m count \u001b[39m+\u001b[39m\u001b[39m=\u001b[39m \u001b[39m1\u001b[39m\n\u001b[1;32m    139\u001b[0m \u001b[39m# if temperature < final_temp:\u001b[39;00m\n\u001b[1;32m    140\u001b[0m \u001b[39m#     print('temperature reached')\u001b[39;00m\n\u001b[1;32m    141\u001b[0m \u001b[39m#     print(count)\u001b[39;00m\n\u001b[1;32m    142\u001b[0m \u001b[39m#     break\u001b[39;00m\n\u001b[0;32m--> 144\u001b[0m new_tour \u001b[39m=\u001b[39m generate_neighbor(current_tour, altering_method)\n\u001b[1;32m    146\u001b[0m new_energy \u001b[39m=\u001b[39m total_tour_distance(new_tour, distances)\n\u001b[1;32m    147\u001b[0m energy_difference \u001b[39m=\u001b[39m new_energy \u001b[39m-\u001b[39m current_energy\n",
      "File \u001b[0;32m~/Downloads/Computational Science/Stochastic-Simulation/TSM/tsp_annealing.py:75\u001b[0m, in \u001b[0;36mgenerate_neighbor\u001b[0;34m(current_state, method)\u001b[0m\n\u001b[1;32m     73\u001b[0m     new_state \u001b[39m=\u001b[39m swap(current_state)\n\u001b[1;32m     74\u001b[0m \u001b[39mif\u001b[39;00m method \u001b[39m==\u001b[39m \u001b[39m'\u001b[39m\u001b[39mreverse\u001b[39m\u001b[39m'\u001b[39m:\n\u001b[0;32m---> 75\u001b[0m     new_state \u001b[39m=\u001b[39m reverse(current_state)\n\u001b[1;32m     77\u001b[0m \u001b[39mreturn\u001b[39;00m new_state\n",
      "File \u001b[0;32m~/Downloads/Computational Science/Stochastic-Simulation/TSM/tsp_annealing.py:67\u001b[0m, in \u001b[0;36mreverse\u001b[0;34m(current_state)\u001b[0m\n\u001b[1;32m     63\u001b[0m     index2 \u001b[39m=\u001b[39m random\u001b[39m.\u001b[39mrandint(\u001b[39m0\u001b[39m, \u001b[39mlen\u001b[39m(current_state) \u001b[39m-\u001b[39m \u001b[39m1\u001b[39m)\n\u001b[1;32m     65\u001b[0m index1, index2 \u001b[39m=\u001b[39m \u001b[39mmin\u001b[39m(index1, index2), \u001b[39mmax\u001b[39m(index1, index2)\n\u001b[0;32m---> 67\u001b[0m new_state[index1:index2\u001b[39m+\u001b[39;49m\u001b[39m1\u001b[39;49m] \u001b[39m=\u001b[39m \u001b[39mreversed\u001b[39m(new_state[index1:index2\u001b[39m+\u001b[39m\u001b[39m1\u001b[39m])\n\u001b[1;32m     69\u001b[0m \u001b[39mreturn\u001b[39;00m new_state\n",
      "\u001b[0;31mTypeError\u001b[0m: int() argument must be a string, a bytes-like object or a number, not 'reversed'"
     ]
    },
    {
     "data": {
      "image/png": "[encoded data removed]",
      "text/plain": [
       "<Figure size 800x600 with 1 Axes>"
      ]
     },
     "metadata": {},
     "output_type": "display_data"
    }
   ],
   "source": [
    "cities = load_graph('TSP-Configurations/eil51.tsp.txt')\n",
    "\n",
    "plt.figure(figsize=(8, 6))\n",
    "plt.scatter([elem[0] for elem in cities], [elem[1] for elem in cities])\n",
    "plt.title('Map')\n",
    "\n",
    "distances = calculate_distances(cities)\n",
    "\n",
    "best_tour, best_distance, cost_over_iterations, temperature_over_interations = perform_annealing(distances, altering_method='reverse', max_iterations=int(1E5), alpha=0.9999)\n",
    "\n",
    "print(\"Best tour:\", best_tour)\n",
    "print(\"Best distance:\", best_distance)\n",
    "\n",
    "plot_tour(best_tour, cities)\n",
    "\n",
    "plt.figure(figsize=(8, 6))\n",
    "plt.plot(cost_over_iterations)\n",
    "plt.title('Tour Distance Over Iterations')\n",
    "plt.xlabel('Iterations')\n",
    "plt.ylabel('Distance')\n",
    "\n",
    "plt.plot(temperature_over_interations)\n",
    "plt.title('Temperature Over Iterations')\n",
    "plt.xlabel('Iterations')\n",
    "plt.ylabel('Temperature')\n",
    "\n",
    "plt.show()"
   ]
  },
  {
   "cell_type": "code",
   "execution_count": null,
   "metadata": {},
   "outputs": [],
   "source": [
    "cities = load_graph('TSP-Configurations/a280.tsp.txt')\n",
    "\n",
    "plt.figure(figsize=(8, 6))\n",
    "plt.scatter([elem[0] for elem in cities], [elem[1] for elem in cities])\n",
    "plt.title('Map')\n",
    "\n",
    "distances = calculate_distances(cities)\n",
    "\n",
    "best_tour, best_distance, cost_over_iterations, temperature_over_interations = perform_annealing(distances, max_iterations=int(1E5), alpha=0.9999)\n",
    "\n",
    "print(\"Best tour:\", best_tour)\n",
    "print(\"Best distance:\", best_distance)\n",
    "\n",
    "plot_tour(best_tour, cities)\n",
    "\n",
    "plt.figure(figsize=(8, 6))\n",
    "plt.plot(cost_over_iterations)\n",
    "plt.title('Tour Distance Over Iterations')\n",
    "plt.xlabel('Iterations')\n",
    "plt.ylabel('Distance')\n",
    "\n",
    "\n",
    "plt.plot(temperature_over_interations)\n",
    "plt.title('Temperature Over Iterations')\n",
    "plt.xlabel('Iterations')\n",
    "plt.ylabel('Temperature')\n",
    "\n",
    "plt.show()"
   ]
  },
  {
   "cell_type": "code",
   "execution_count": null,
   "metadata": {},
   "outputs": [],
   "source": [
    "cities = load_graph('TSP-Configurations/pcb442.tsp.txt')\n",
    "\n",
    "plt.figure(figsize=(8, 6))\n",
    "plt.scatter([elem[0] for elem in cities], [elem[1] for elem in cities])\n",
    "plt.title('Map')\n",
    "\n",
    "distances = calculate_distances(cities)\n",
    "\n",
    "best_tour, best_distance, cost_over_iterations, temperature_over_interations = perform_annealing(distances, 'reverse', max_iterations=int(1E5), alpha=0.9999)\n",
    "\n",
    "print(\"Best tour:\", best_tour)\n",
    "print(\"Best distance:\", best_distance)\n",
    "\n",
    "plot_tour(best_tour, cities)\n",
    "\n",
    "plt.figure(figsize=(8, 6))\n",
    "plt.plot(cost_over_iterations)\n",
    "plt.title('Tour Distance Over Iterations')\n",
    "plt.xlabel('Iterations')\n",
    "plt.ylabel('Distance')\n",
    "\n",
    "\n",
    "plt.plot(temperature_over_interations)\n",
    "plt.title('Temperature Over Iterations')\n",
    "plt.xlabel('Iterations')\n",
    "plt.ylabel('Temperature')\n",
    "\n",
    "plt.show()"
   ]
  },
  {
   "cell_type": "code",
   "execution_count": null,
   "metadata": {},
   "outputs": [],
   "source": [
    "cities = load_graph('TSP-Configurations/eil51.tsp.txt')\n",
    "distances = calculate_distances(cities)\n",
    "\n",
    "num_runs = 50\n",
    "run_simulations(num_runs=num_runs, distances=distances, output='fitness_statistics')"
   ]
  },
  {
   "cell_type": "code",
   "execution_count": null,
   "metadata": {},
   "outputs": [],
   "source": [
    "max_iterations_list = range(100, 20000, 1000)\n",
    "\n",
    "means, stds, conf_intervals = run_vary_maxiter(num_runs, distances, max_iterations_list)\n"
   ]
  },
  {
   "cell_type": "code",
   "execution_count": null,
   "metadata": {},
   "outputs": [],
   "source": [
    "means = np.array(means)\n",
    "lower_bounds = np.array([interval[0] for interval in conf_intervals])\n",
    "upper_bounds = np.array([interval[1] for interval in conf_intervals])\n",
    "\n",
    "plt.figure(figsize=(8, 6))\n",
    "plt.plot(max_iterations_list, means, marker='o', linestyle='-', color='blue', label='Means')\n",
    "plt.fill_between(max_iterations_list, lower_bounds, upper_bounds, alpha=0.2, color='blue')\n",
    "\n",
    "\n",
    "plt.title('Means over Number of Max Iterations with Confidence Interval')\n",
    "plt.xlabel('Max Iterations')\n",
    "plt.ylabel('Means')\n",
    "plt.legend()\n",
    "\n",
    "plt.show()"
   ]
  }
 ],
 "metadata": {
  "kernelspec": {
   "display_name": "Python 3",
   "language": "python",
   "name": "python3"
  },
  "language_info": {
   "codemirror_mode": {
    "name": "ipython",
    "version": 3
   },
   "file_extension": ".py",
   "mimetype": "text/x-python",
   "name": "python",
   "nbconvert_exporter": "python",
   "pygments_lexer": "ipython3",
   "version": "3.9.6"
  }
 },
 "nbformat": 4,
 "nbformat_minor": 2
}
