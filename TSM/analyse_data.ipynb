{
 "cells": [
  {
   "cell_type": "code",
   "execution_count": 4,
   "metadata": {},
   "outputs": [],
   "source": [
    "from tsp_annealing import *\n",
    "import matplotlib.pyplot as plt"
   ]
  },
  {
   "cell_type": "code",
   "execution_count": 5,
   "metadata": {},
   "outputs": [],
   "source": [
    "opt_distance_51, opt_distance_280, opt_distance_442 = calculate_optimal_distances()\n",
    "\n",
    "cities_51 = load_graph('TSP-Configurations/eil51.tsp.txt')\n",
    "cities_280 = load_graph('TSP-Configurations/a280.tsp.txt')\n",
    "cities_442 = load_graph('TSP-Configurations/pcb442.tsp.txt')\n",
    "\n",
    "distances_51 = calculate_distances(cities_51)\n",
    "distances_280 = calculate_distances(cities_280)\n",
    "distances_442 = calculate_distances(cities_442)"
   ]
  },
  {
   "cell_type": "code",
   "execution_count": 34,
   "metadata": {},
   "outputs": [],
   "source": [
    "def load_data_file(file_path):\n",
    "    data = []\n",
    "    with open(file_path, 'r') as csvfile:\n",
    "        reader = csv.reader(csvfile)\n",
    "        for row in reader:\n",
    "            data.append(row)\n",
    "    return data\n",
    "\n",
    "def load_experiment(filepaths, labels):\n",
    "    results = {}\n",
    "    for (filepath, label) in zip(filepaths, labels):\n",
    "        data = load_data_file(filepath)\n",
    "        results[label] = data[2:]\n",
    "        max_iter_list = data[1]\n",
    "    return results, max_iter_list "
   ]
  },
  {
   "cell_type": "code",
   "execution_count": 35,
   "metadata": {},
   "outputs": [
    {
     "ename": "TypeError",
     "evalue": "int() argument must be a string, a bytes-like object or a real number, not 'list'",
     "output_type": "error",
     "traceback": [
      "\u001b[1;31m---------------------------------------------------------------------------\u001b[0m",
      "\u001b[1;31mTypeError\u001b[0m                                 Traceback (most recent call last)",
      "Cell \u001b[1;32mIn[35], line 8\u001b[0m\n\u001b[0;32m      1\u001b[0m filepaths \u001b[38;5;241m=\u001b[39m [\n\u001b[0;32m      2\u001b[0m     \u001b[38;5;124m'\u001b[39m\u001b[38;5;124mgenerated_data/dist_perm_operator-swap_maxiter30001.csv\u001b[39m\u001b[38;5;124m'\u001b[39m, \n\u001b[0;32m      3\u001b[0m     \u001b[38;5;124m'\u001b[39m\u001b[38;5;124mgenerated_data/dist_perm_operator-insert_maxiter30001.csv\u001b[39m\u001b[38;5;124m'\u001b[39m,\n\u001b[0;32m      4\u001b[0m     \u001b[38;5;124m'\u001b[39m\u001b[38;5;124mgenerated_data/dist_perm_operator-reverse_maxiter30001.csv\u001b[39m\u001b[38;5;124m'\u001b[39m\n\u001b[0;32m      5\u001b[0m     ]\n\u001b[0;32m      6\u001b[0m labels \u001b[38;5;241m=\u001b[39m [\u001b[38;5;124m'\u001b[39m\u001b[38;5;124mswap\u001b[39m\u001b[38;5;124m'\u001b[39m, \u001b[38;5;124m'\u001b[39m\u001b[38;5;124minsert\u001b[39m\u001b[38;5;124m'\u001b[39m, \u001b[38;5;124m'\u001b[39m\u001b[38;5;124mreverse\u001b[39m\u001b[38;5;124m'\u001b[39m]\n\u001b[1;32m----> 8\u001b[0m data_perm_operators, max_iter_list \u001b[38;5;241m=\u001b[39m \u001b[43mload_experiment\u001b[49m\u001b[43m(\u001b[49m\u001b[43mfilepaths\u001b[49m\u001b[43m,\u001b[49m\u001b[43m \u001b[49m\u001b[43mlabels\u001b[49m\u001b[43m)\u001b[49m\n",
      "Cell \u001b[1;32mIn[34], line 19\u001b[0m, in \u001b[0;36mload_experiment\u001b[1;34m(filepaths, labels)\u001b[0m\n\u001b[0;32m     17\u001b[0m     data \u001b[38;5;241m=\u001b[39m load_data_file(filepath)\n\u001b[0;32m     18\u001b[0m     results[label] \u001b[38;5;241m=\u001b[39m np\u001b[38;5;241m.\u001b[39marray(data[\u001b[38;5;241m2\u001b[39m:]) \n\u001b[1;32m---> 19\u001b[0m     max_iter_list\u001b[38;5;241m.\u001b[39mappend(\u001b[38;5;28;43mint\u001b[39;49m\u001b[43m(\u001b[49m\u001b[43mdata\u001b[49m\u001b[43m[\u001b[49m\u001b[38;5;241;43m1\u001b[39;49m\u001b[43m]\u001b[49m\u001b[43m)\u001b[49m)\n\u001b[0;32m     20\u001b[0m \u001b[38;5;28;01mreturn\u001b[39;00m results, max_iter_list\n",
      "\u001b[1;31mTypeError\u001b[0m: int() argument must be a string, a bytes-like object or a real number, not 'list'"
     ]
    }
   ],
   "source": [
    "filepaths = [\n",
    "    'generated_data/dist_perm_operator-swap_maxiter30001.csv', \n",
    "    'generated_data/dist_perm_operator-insert_maxiter30001.csv',\n",
    "    'generated_data/dist_perm_operator-reverse_maxiter30001.csv'\n",
    "    ]\n",
    "labels = ['swap', 'insert', 'reverse']\n",
    "\n",
    "data_perm_operators, max_iter_list = load_experiment(filepaths, labels)"
   ]
  },
  {
   "cell_type": "code",
   "execution_count": 30,
   "metadata": {},
   "outputs": [],
   "source": [
    "def plot_comparison(results, max_iterations_list, param_labels):\n",
    "    plt.figure(figsize=(8, 6))\n",
    "    colors = ['blue', 'red', 'green']\n",
    "\n",
    "    opt_distance_line = [opt_distance_280 for _ in max_iterations_list]\n",
    "\n",
    "    for i, param_label in enumerate(param_labels):\n",
    "        means = np.array([np.mean(elem) for elem in results[param_label]])\n",
    "        stds = np.array([np.std(elem) for elem in results[param_label]])\n",
    "        z_score = 1.96 \n",
    "\n",
    "        conf_intervals = np.column_stack([\n",
    "        means - z_score * (stds / np.sqrt(len(means))),\n",
    "        means + z_score * (stds / np.sqrt(len(means)))\n",
    "        ])\n",
    "\n",
    "        lower_bounds = np.array([interval[0] for interval in conf_intervals])\n",
    "        upper_bounds = np.array([interval[1] for interval in conf_intervals])\n",
    "\n",
    "        plt.plot(max_iterations_list, means, marker='o', linestyle='-', color=colors[i], label=param_label)\n",
    "        plt.fill_between(max_iterations_list, lower_bounds, upper_bounds, alpha=0.3)\n",
    "        \n",
    "    plt.plot(max_iterations_list, opt_distance_line, linestyle='--', color='black', label='Optimal Distance')\n",
    "    plt.title('Mean Distance over Number of Max Iterations')\n",
    "    plt.xlabel('Max Iterations')\n",
    "    plt.ylabel('Mean Distance')\n",
    "    plt.legend()\n",
    "    plt.show()\n",
    "\n"
   ]
  },
  {
   "cell_type": "code",
   "execution_count": 31,
   "metadata": {},
   "outputs": [
    {
     "name": "stdout",
     "output_type": "stream",
     "text": [
      "[['2889.784830809678', '8422.616597322389', '6843.099133403052', '6146.479931669172', '5856.274135755367', '6366.6850072493335', '5538.594506102643'], ['2818.621642239474', '8356.7346642373', '6960.279827784866', '6517.19860171614', '5968.434791031504', '6285.531006137252', '5847.081957488106'], ['2993.226947715919', '8384.918865406084', '7797.4030885070215', '6624.6654421271105', '6562.892560394685', '6328.739823633847', '5375.96990171789'], ['3555.468445252576', '7945.973615063622', '6080.721659344486', '6365.615616824331', '5987.102872305898', '5452.810919034924', '5454.509080403629'], ['3203.0971410510465', '8744.968971930706', '5917.113960032042', '6789.907769959796', '5909.778386142694', '5846.6117241207485', '5156.968656446559'], ['3277.7106563050265', '8565.018035877865', '7909.373864699595', '6157.938764403495', '6490.965608543547', '6387.077322369351', '5564.995157140289'], ['2928.794043556948', '8352.394334618144', '6633.832248887842', '7220.052800432896', '6116.136446034338', '6370.847415296667', '6063.342758254276'], ['2951.693694413981', '6811.2656324903', '7003.993422515145', '6073.715019253846', '7129.692724316033', '6262.510733715328', '4907.165292104256'], ['3239.8627305258715', '7314.051830457195', '6492.223666090297', '6448.993194029392', '5962.2628142028', '5936.872823985369', '5032.517572709371'], ['3222.638845662789', '7028.644189047933', '7180.777704946059', '6003.066677767516', '6887.215530175228', '5562.253814914845', '5423.720168736064'], ['3669.660269671455', '7872.1883453392975', '7298.245429153784', '6218.861195668426', '6187.571543098718', '6151.14434759665', '5439.724445121737'], ['3500.7061881936706', '7758.070442127978', '6379.299727700714', '7196.907398589471', '6042.392795539285', '5768.703101656624', '5590.476298060925'], ['3007.3206949603846', '9124.487620718059', '6722.225899283735', '6988.961470187937', '6274.4128805801865', '5801.353255245265', '4782.503025497559'], ['2837.04384734133', '8532.981006959826', '6440.508702582794', '6369.066106052154', '6057.99152443147', '6156.352257483469', '5094.172356639926'], ['3366.811260051364', '8073.711483316174', '7399.469054793919', '7262.679402477027', '6377.45130013968', '6615.502740604881', '5787.337907574985'], ['3107.200814778431', '8870.794190369306', '6404.952663731807', '6892.778795305521', '5505.227143123271', '6192.850909346899', '6530.1066386004295'], ['3020.9329645531056', '8584.29181269928', '6704.919388245458', '5890.999507559452', '6037.448041224799', '5882.032709952281', '5449.341797098028'], ['3145.558983486112', '8324.200115449545', '7473.1819581427535', '6614.419100824869', '5750.573143548503', '5568.214179393578', '5922.679574130996'], ['3611.1261238966667', '8110.802283146717', '6709.803327023678', '6024.412428546515', '5828.821933968398', '5747.427884359276', '5987.072487696864'], ['2903.77693661549', '7946.451972837093', '6751.635049894479', '6502.047037416945', '6260.012417083946', '6006.037094712463', '5662.915645724602'], ['2902.800335175461', '8610.753482282813', '7122.6311536107305', '6490.30809565597', '5871.5927681165285', '5381.3595135843325', '5204.671903519259'], ['2863.3391090455466', '8153.365558428251', '6885.4470858076575', '6927.752931542331', '6409.007478631497', '5871.023048536462', '5879.963590320321'], ['3336.771041134939', '9223.240234653247', '7846.961763092234', '5646.271598166556', '6126.310361578185', '5945.457248217287', '6114.103470927221'], ['2995.7587272293217', '8583.801671295241', '6365.126669968251', '8058.599088351864', '5559.824153814192', '6221.5520214985745', '6228.27653705279'], ['3111.9611305554217', '8358.793389905524', '6490.639332891737', '6274.690563507705', '5838.404528467033', '5542.280370167084', '6548.826717046091'], ['3185.1133441701973', '8183.887821891188', '8153.048724203147', '6901.817082610744', '5958.411694995552', '6276.514521821755', '4934.253093776611'], ['3111.5534304618077', '8780.044957349099', '6698.606480053065', '6664.922860399719', '5990.765611245028', '6188.932374864927', '4935.457196673391'], ['3076.5243444586677', '8460.146818614045', '6604.653112484878', '5911.160229193897', '6376.936758326014', '6195.587218769362', '5430.378747549505'], ['3627.906051989842', '8792.264493678966', '7124.371519524544', '6865.019696890305', '5799.773144914479', '5797.915801529367', '5927.234906879169'], ['3358.1318589761195', '8145.0920642419005', '7479.416647434928', '6946.71590713385', '5739.677441691472', '5972.6244243175', '5788.569566013371']]\n"
     ]
    },
    {
     "ename": "UFuncTypeError",
     "evalue": "ufunc 'add' did not contain a loop with signature matching types (dtype('<U18'), dtype('<U18')) -> None",
     "output_type": "error",
     "traceback": [
      "\u001b[1;31m---------------------------------------------------------------------------\u001b[0m",
      "\u001b[1;31mUFuncTypeError\u001b[0m                            Traceback (most recent call last)",
      "Cell \u001b[1;32mIn[31], line 1\u001b[0m\n\u001b[1;32m----> 1\u001b[0m \u001b[43mplot_comparison\u001b[49m\u001b[43m(\u001b[49m\u001b[43mdata_perm_operators\u001b[49m\u001b[43m,\u001b[49m\u001b[43m \u001b[49m\u001b[43mmax_iter_list\u001b[49m\u001b[43m,\u001b[49m\u001b[43m \u001b[49m\u001b[43mparam_labels\u001b[49m\u001b[38;5;241;43m=\u001b[39;49m\u001b[43mlabels\u001b[49m\u001b[43m)\u001b[49m\n",
      "Cell \u001b[1;32mIn[30], line 9\u001b[0m, in \u001b[0;36mplot_comparison\u001b[1;34m(results, max_iterations_list, param_labels)\u001b[0m\n\u001b[0;32m      7\u001b[0m \u001b[38;5;28;01mfor\u001b[39;00m i, param_label \u001b[38;5;129;01min\u001b[39;00m \u001b[38;5;28menumerate\u001b[39m(param_labels):\n\u001b[0;32m      8\u001b[0m     \u001b[38;5;28mprint\u001b[39m(results[param_label])\n\u001b[1;32m----> 9\u001b[0m     means \u001b[38;5;241m=\u001b[39m np\u001b[38;5;241m.\u001b[39marray(\u001b[43m[\u001b[49m\u001b[43mnp\u001b[49m\u001b[38;5;241;43m.\u001b[39;49m\u001b[43mmean\u001b[49m\u001b[43m(\u001b[49m\u001b[43melem\u001b[49m\u001b[43m)\u001b[49m\u001b[43m \u001b[49m\u001b[38;5;28;43;01mfor\u001b[39;49;00m\u001b[43m \u001b[49m\u001b[43melem\u001b[49m\u001b[43m \u001b[49m\u001b[38;5;129;43;01min\u001b[39;49;00m\u001b[43m \u001b[49m\u001b[43mresults\u001b[49m\u001b[43m[\u001b[49m\u001b[43mparam_label\u001b[49m\u001b[43m]\u001b[49m\u001b[43m]\u001b[49m)\n\u001b[0;32m     10\u001b[0m     stds \u001b[38;5;241m=\u001b[39m np\u001b[38;5;241m.\u001b[39marray([np\u001b[38;5;241m.\u001b[39mstd(elem) \u001b[38;5;28;01mfor\u001b[39;00m elem \u001b[38;5;129;01min\u001b[39;00m results[param_label]])\n\u001b[0;32m     11\u001b[0m     z_score \u001b[38;5;241m=\u001b[39m \u001b[38;5;241m1.96\u001b[39m \n",
      "Cell \u001b[1;32mIn[30], line 9\u001b[0m, in \u001b[0;36m<listcomp>\u001b[1;34m(.0)\u001b[0m\n\u001b[0;32m      7\u001b[0m \u001b[38;5;28;01mfor\u001b[39;00m i, param_label \u001b[38;5;129;01min\u001b[39;00m \u001b[38;5;28menumerate\u001b[39m(param_labels):\n\u001b[0;32m      8\u001b[0m     \u001b[38;5;28mprint\u001b[39m(results[param_label])\n\u001b[1;32m----> 9\u001b[0m     means \u001b[38;5;241m=\u001b[39m np\u001b[38;5;241m.\u001b[39marray([\u001b[43mnp\u001b[49m\u001b[38;5;241;43m.\u001b[39;49m\u001b[43mmean\u001b[49m\u001b[43m(\u001b[49m\u001b[43melem\u001b[49m\u001b[43m)\u001b[49m \u001b[38;5;28;01mfor\u001b[39;00m elem \u001b[38;5;129;01min\u001b[39;00m results[param_label]])\n\u001b[0;32m     10\u001b[0m     stds \u001b[38;5;241m=\u001b[39m np\u001b[38;5;241m.\u001b[39marray([np\u001b[38;5;241m.\u001b[39mstd(elem) \u001b[38;5;28;01mfor\u001b[39;00m elem \u001b[38;5;129;01min\u001b[39;00m results[param_label]])\n\u001b[0;32m     11\u001b[0m     z_score \u001b[38;5;241m=\u001b[39m \u001b[38;5;241m1.96\u001b[39m \n",
      "File \u001b[1;32m<__array_function__ internals>:200\u001b[0m, in \u001b[0;36mmean\u001b[1;34m(*args, **kwargs)\u001b[0m\n",
      "File \u001b[1;32m~\\AppData\\Local\\Packages\\PythonSoftwareFoundation.Python.3.11_qbz5n2kfra8p0\\LocalCache\\local-packages\\Python311\\site-packages\\numpy\\core\\fromnumeric.py:3464\u001b[0m, in \u001b[0;36mmean\u001b[1;34m(a, axis, dtype, out, keepdims, where)\u001b[0m\n\u001b[0;32m   3461\u001b[0m     \u001b[38;5;28;01melse\u001b[39;00m:\n\u001b[0;32m   3462\u001b[0m         \u001b[38;5;28;01mreturn\u001b[39;00m mean(axis\u001b[38;5;241m=\u001b[39maxis, dtype\u001b[38;5;241m=\u001b[39mdtype, out\u001b[38;5;241m=\u001b[39mout, \u001b[38;5;241m*\u001b[39m\u001b[38;5;241m*\u001b[39mkwargs)\n\u001b[1;32m-> 3464\u001b[0m \u001b[38;5;28;01mreturn\u001b[39;00m \u001b[43m_methods\u001b[49m\u001b[38;5;241;43m.\u001b[39;49m\u001b[43m_mean\u001b[49m\u001b[43m(\u001b[49m\u001b[43ma\u001b[49m\u001b[43m,\u001b[49m\u001b[43m \u001b[49m\u001b[43maxis\u001b[49m\u001b[38;5;241;43m=\u001b[39;49m\u001b[43maxis\u001b[49m\u001b[43m,\u001b[49m\u001b[43m \u001b[49m\u001b[43mdtype\u001b[49m\u001b[38;5;241;43m=\u001b[39;49m\u001b[43mdtype\u001b[49m\u001b[43m,\u001b[49m\n\u001b[0;32m   3465\u001b[0m \u001b[43m                      \u001b[49m\u001b[43mout\u001b[49m\u001b[38;5;241;43m=\u001b[39;49m\u001b[43mout\u001b[49m\u001b[43m,\u001b[49m\u001b[43m \u001b[49m\u001b[38;5;241;43m*\u001b[39;49m\u001b[38;5;241;43m*\u001b[39;49m\u001b[43mkwargs\u001b[49m\u001b[43m)\u001b[49m\n",
      "File \u001b[1;32m~\\AppData\\Local\\Packages\\PythonSoftwareFoundation.Python.3.11_qbz5n2kfra8p0\\LocalCache\\local-packages\\Python311\\site-packages\\numpy\\core\\_methods.py:181\u001b[0m, in \u001b[0;36m_mean\u001b[1;34m(a, axis, dtype, out, keepdims, where)\u001b[0m\n\u001b[0;32m    178\u001b[0m         dtype \u001b[38;5;241m=\u001b[39m mu\u001b[38;5;241m.\u001b[39mdtype(\u001b[38;5;124m'\u001b[39m\u001b[38;5;124mf4\u001b[39m\u001b[38;5;124m'\u001b[39m)\n\u001b[0;32m    179\u001b[0m         is_float16_result \u001b[38;5;241m=\u001b[39m \u001b[38;5;28;01mTrue\u001b[39;00m\n\u001b[1;32m--> 181\u001b[0m ret \u001b[38;5;241m=\u001b[39m umr_sum(arr, axis, dtype, out, keepdims, where\u001b[38;5;241m=\u001b[39mwhere)\n\u001b[0;32m    182\u001b[0m \u001b[38;5;28;01mif\u001b[39;00m \u001b[38;5;28misinstance\u001b[39m(ret, mu\u001b[38;5;241m.\u001b[39mndarray):\n\u001b[0;32m    183\u001b[0m     \u001b[38;5;28;01mwith\u001b[39;00m _no_nep50_warning():\n",
      "\u001b[1;31mUFuncTypeError\u001b[0m: ufunc 'add' did not contain a loop with signature matching types (dtype('<U18'), dtype('<U18')) -> None"
     ]
    },
    {
     "data": {
      "text/plain": [
       "<Figure size 800x600 with 0 Axes>"
      ]
     },
     "metadata": {},
     "output_type": "display_data"
    }
   ],
   "source": [
    "plot_comparison(data_perm_operators, max_iter_list, param_labels=labels)"
   ]
  },
  {
   "cell_type": "code",
   "execution_count": null,
   "metadata": {},
   "outputs": [],
   "source": []
  }
 ],
 "metadata": {
  "kernelspec": {
   "display_name": "Python 3",
   "language": "python",
   "name": "python3"
  },
  "language_info": {
   "codemirror_mode": {
    "name": "ipython",
    "version": 3
   },
   "file_extension": ".py",
   "mimetype": "text/x-python",
   "name": "python",
   "nbconvert_exporter": "python",
   "pygments_lexer": "ipython3",
   "version": "3.11.7"
  }
 },
 "nbformat": 4,
 "nbformat_minor": 2
}
